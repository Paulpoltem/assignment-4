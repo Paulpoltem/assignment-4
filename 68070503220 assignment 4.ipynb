{
 "cells": [
  {
   "cell_type": "code",
   "execution_count": 7,
   "id": "f7ffd77e",
   "metadata": {},
   "outputs": [
    {
     "name": "stdout",
     "output_type": "stream",
     "text": [
      "1 odd\n",
      "2 even\n",
      "3 odd\n",
      "4 even\n",
      "5 odd\n",
      "6 even\n",
      "7 odd\n",
      "8 even\n",
      "9 odd\n",
      "10 even\n"
     ]
    }
   ],
   "source": [
    " \n",
    "# Even and odd\n",
    "n = 10\n",
    "for i in range(1, n + 1):\n",
    "    if i % 2 == 0:\n",
    "        print(i, \"even\")\n",
    "    else:\n",
    "        print(i, \"odd\")"
   ]
  },
  {
   "cell_type": "code",
   "execution_count": 12,
   "id": "100be068",
   "metadata": {},
   "outputs": [
    {
     "name": "stdout",
     "output_type": "stream",
     "text": [
      "result= 0\n",
      "result is large\n",
      "result is large\n",
      "result is large\n",
      "result is large\n",
      "result is large\n",
      "result is large\n",
      "result is large\n",
      "result is large\n",
      "result is large\n",
      "result is large\n"
     ]
    }
   ],
   "source": [
    "num = 1100\n",
    "for i in range(0,11):\n",
    "    i = num*i\n",
    "    if i >= 50:\n",
    "        print (\"result is large\")\n",
    "    else:\n",
    "        print (\"result=\", i)   \n",
    "\n"
   ]
  },
  {
   "cell_type": "code",
   "execution_count": 27,
   "id": "4369a252",
   "metadata": {},
   "outputs": [
    {
     "name": "stdout",
     "output_type": "stream",
     "text": [
      "1\n",
      "2\n",
      "3\n",
      "5\n",
      "6\n",
      "7\n",
      "9\n",
      "10\n",
      "11\n",
      "13\n",
      "14\n",
      "15\n",
      "17\n",
      "18\n",
      "19\n"
     ]
    }
   ],
   "source": [
    "n = 20\n",
    "for i in  range(1,n):\n",
    "    if i%4 == 0:\n",
    "        continue\n",
    "\n",
    "    if i > 20:\n",
    "        break\n",
    "    else:\n",
    "        print(i)\n"
   ]
  },
  {
   "cell_type": "code",
   "execution_count": 3,
   "id": "ef4b3d64",
   "metadata": {},
   "outputs": [
    {
     "name": "stdout",
     "output_type": "stream",
     "text": [
      "try again\n",
      "you got this\n"
     ]
    }
   ],
   "source": [
    "secret_number = 777\n",
    "guess = int(input(\"guess three digit lucky number from 000 to 999 \"))\n",
    "while guess != secret_number:\n",
    "    print(\"try again\")\n",
    "    guess = int(input(\"guess three digit lucky number from 000 to 999 \"))\\\n",
    "    \n",
    "print(\"you got this\")"
   ]
  },
  {
   "cell_type": "code",
   "execution_count": 5,
   "id": "ebf53cce",
   "metadata": {},
   "outputs": [
    {
     "name": "stdout",
     "output_type": "stream",
     "text": [
      "you have reached the limit\n"
     ]
    }
   ],
   "source": [
    "total_bill = 0\n",
    "while total_bill < 1000:\n",
    "    price = int(input(\"\"))\n",
    "    total_bill = total_bill + price\n",
    "print(\"you have reached the limit\")\n"
   ]
  }
 ],
 "metadata": {
  "kernelspec": {
   "display_name": "Python 3",
   "language": "python",
   "name": "python3"
  },
  "language_info": {
   "codemirror_mode": {
    "name": "ipython",
    "version": 3
   },
   "file_extension": ".py",
   "mimetype": "text/x-python",
   "name": "python",
   "nbconvert_exporter": "python",
   "pygments_lexer": "ipython3",
   "version": "3.12.6"
  }
 },
 "nbformat": 4,
 "nbformat_minor": 5
}
